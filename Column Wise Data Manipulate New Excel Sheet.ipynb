{
 "cells": [
  {
   "cell_type": "code",
   "execution_count": 1,
   "id": "398dd58a",
   "metadata": {},
   "outputs": [],
   "source": [
    "import pandas as pd"
   ]
  },
  {
   "cell_type": "code",
   "execution_count": null,
   "id": "89559480",
   "metadata": {},
   "outputs": [],
   "source": [
    "df = pd.read_excel(\"C:\\\\Nobel\\\\Data.xlsx\")"
   ]
  },
  {
   "cell_type": "code",
   "execution_count": null,
   "id": "3ca6e94e",
   "metadata": {},
   "outputs": [],
   "source": [
    "df['Zone'] = df['Zone'].fillna('Unknown')\n",
    "\n",
    "zone_dfs = {zone: df[df['Zone'] == zone] for zone in df['Zone'].unique()}"
   ]
  },
  {
   "cell_type": "code",
   "execution_count": null,
   "id": "3a701599",
   "metadata": {},
   "outputs": [],
   "source": [
    "writer = pd.ExcelWriter('Zone-data.xlsx', engine='xlsxwriter')"
   ]
  },
  {
   "cell_type": "code",
   "execution_count": null,
   "id": "003f76de",
   "metadata": {},
   "outputs": [],
   "source": [
    "for zone, zone_df in zone_dfs.items():\n",
    "    zone_df.to_excel(writer, sheet_name=zone, index=False)\n",
    "\n",
    "writer.save()\n",
    "writer.close()"
   ]
  }
 ],
 "metadata": {
  "kernelspec": {
   "display_name": "Python 3 (ipykernel)",
   "language": "python",
   "name": "python3"
  },
  "language_info": {
   "codemirror_mode": {
    "name": "ipython",
    "version": 3
   },
   "file_extension": ".py",
   "mimetype": "text/x-python",
   "name": "python",
   "nbconvert_exporter": "python",
   "pygments_lexer": "ipython3",
   "version": "3.10.9"
  }
 },
 "nbformat": 4,
 "nbformat_minor": 5
}
